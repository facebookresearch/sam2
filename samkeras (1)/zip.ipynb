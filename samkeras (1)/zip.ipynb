{
 "cells": [
  {
   "cell_type": "code",
   "execution_count": 10,
   "id": "025fe686-2ff5-4877-ad76-1c7b27c1db09",
   "metadata": {
    "tags": []
   },
   "outputs": [
    {
     "name": "stderr",
     "output_type": "stream",
     "text": [
      "Creating ZIP archive: 45it [00:00, 1066.72it/s]             \n"
     ]
    },
    {
     "data": {
      "text/html": [
       "<a href='samkeras.zip' target='_blank'>samkeras.zip</a><br>"
      ],
      "text/plain": [
       "/home/ec2-user/SageMaker/Sam2Keras/samkeras.zip"
      ]
     },
     "metadata": {},
     "output_type": "display_data"
    }
   ],
   "source": [
    "import zipfile\n",
    "import os\n",
    "from tqdm import tqdm\n",
    "\n",
    "# Specify the directory to zip (using the full path)\n",
    "directory_to_zip = \"/home/ec2-user/SageMaker/Sam2Keras\"\n",
    "\n",
    "# Create a ZIP archive of all non-hidden files in the specified directory with progress bar\n",
    "with tqdm(total=len(os.listdir(directory_to_zip)), desc=\"Creating ZIP archive\") as pbar:\n",
    "    with zipfile.ZipFile(\"samkeras.zip\", 'w', zipfile.ZIP_DEFLATED) as archive:\n",
    "        for root, dirs, files in os.walk(directory_to_zip):\n",
    "            for file in files:\n",
    "                # Construct the full path to the file\n",
    "                file_path = os.path.join(root, file)\n",
    "\n",
    "                # Construct the relative path within the archive\n",
    "                arcname = os.path.relpath(file_path, directory_to_zip)\n",
    "\n",
    "                # Add file to the archive with the correct relative path\n",
    "                archive.write(file_path, arcname=arcname)\n",
    "                pbar.update(1)  # Update the progress bar\n",
    "\n",
    "# Offer the ZIP archive for download (JupyterLab specific)\n",
    "from IPython.display import FileLink\n",
    "display(FileLink(\"samkeras.zip\"))"
   ]
  },
  {
   "cell_type": "code",
   "execution_count": 4,
   "id": "45233bfe-ded8-4a1d-b633-ba3a2df34dd2",
   "metadata": {
    "tags": []
   },
   "outputs": [
    {
     "name": "stdout",
     "output_type": "stream",
     "text": [
      "/home/ec2-user/SageMaker/Sam2Keras\n"
     ]
    }
   ],
   "source": [
    "import os\n",
    "print(os.getcwd())"
   ]
  },
  {
   "cell_type": "code",
   "execution_count": null,
   "id": "370d2909-39f2-42ff-ba2b-077daac0af7f",
   "metadata": {
    "tags": []
   },
   "outputs": [],
   "source": [
    "!ls"
   ]
  },
  {
   "cell_type": "code",
   "execution_count": null,
   "id": "bcfe6c15-b305-4b79-b1c6-c9fdf0872938",
   "metadata": {},
   "outputs": [],
   "source": []
  },
  {
   "cell_type": "code",
   "execution_count": null,
   "id": "00327d29-dfce-4992-ba56-0d4ce8a135b6",
   "metadata": {},
   "outputs": [],
   "source": []
  }
 ],
 "metadata": {
  "kernelspec": {
   "display_name": "conda_python3",
   "language": "python",
   "name": "conda_python3"
  },
  "language_info": {
   "codemirror_mode": {
    "name": "ipython",
    "version": 3
   },
   "file_extension": ".py",
   "mimetype": "text/x-python",
   "name": "python",
   "nbconvert_exporter": "python",
   "pygments_lexer": "ipython3",
   "version": "3.10.14"
  }
 },
 "nbformat": 4,
 "nbformat_minor": 5
}
